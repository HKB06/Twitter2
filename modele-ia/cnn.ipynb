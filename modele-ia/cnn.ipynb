﻿{
 "cells": [
  {
   "cell_type": "markdown",
   "metadata": {},
   "source": [
    "# BibliothÃ¨ques"
   ]
  },
  {
   "cell_type": "code",
   "execution_count": 3,
   "metadata": {},
   "outputs": [],
   "source": [
    "import pandas as pd\n",
    "import numpy as np\n",
    "import tensorflow as tf\n",
    "from tensorflow.keras.models import Sequential\n",
    "from tensorflow.keras.layers import Conv2D, MaxPooling2D, Flatten, Dense, Dropout\n",
    "from tensorflow.keras.utils import to_categorical\n",
    "from sklearn.model_selection import train_test_split\n",
    "from tensorflow.keras.preprocessing.image import ImageDataGenerator"
   ]
  },
  {
   "cell_type": "markdown",
   "metadata": {},
   "source": [
    "# 1- PrÃ©traitement des donnÃ©es"
   ]
  },
  {
   "cell_type": "code",
   "execution_count": null,
   "metadata": {},
   "outputs": [
    {
     "name": "stdout",
     "output_type": "stream",
     "text": [
      "Found 28709 images belonging to 7 classes.\n",
      "Found 7178 images belonging to 7 classes.\n",
      "Classes dÃ©tectÃ©es : {'angry': 0, 'disgust': 1, 'fear': 2, 'happy': 3, 'neutral': 4, 'sad': 5, 'surprise': 6}\n"
     ]
    }
   ],
   "source": [
    "\n",
    "# DÃ©finition des chemins d'accÃ¨s aux datasets\n",
    "train_path = \"dataset-fer2013/train\"\n",
    "test_path = \"dataset-fer2013/test\"\n",
    "\n",
    "# GÃ©nÃ©rateurs de donnÃ©es pour normaliser les images (mettre les pixels entre 0 et 1)\n",
    "train_datagen = ImageDataGenerator(rescale=1./255)\n",
    "test_datagen = ImageDataGenerator(rescale=1./255)\n",
    "\n",
    "# Chargement des images en batch depuis les dossiers\n",
    "train_generator = train_datagen.flow_from_directory(\n",
    "    train_path,\n",
    "    target_size=(48, 48),\n",
    "    batch_size=32,\n",
    "    color_mode='grayscale',  \n",
    "    class_mode='categorical'  \n",
    ")\n",
    "\n",
    "test_generator = test_datagen.flow_from_directory(\n",
    "    test_path,\n",
    "    target_size=(48, 48),\n",
    "    batch_size=32,\n",
    "    color_mode='grayscale',\n",
    "    class_mode='categorical'\n",
    ")\n",
    "\n",
    "print(\"Classes dÃ©tectÃ©es :\", train_generator.class_indices)\n"
   ]
  },
  {
   "cell_type": "markdown",
   "metadata": {},
   "source": [
    "# 2- DÃ©finition du modÃ¨le CNN pour la classification des Ã©motions"
   ]
  },
  {
   "cell_type": "code",
   "execution_count": null,
   "metadata": {},
   "outputs": [
    {
     "name": "stderr",
     "output_type": "stream",
     "text": [
      "c:\\Users\\habakar\\AppData\\Local\\Programs\\Python\\Python312\\Lib\\site-packages\\keras\\src\\layers\\convolutional\\base_conv.py:107: UserWarning: Do not pass an `input_shape`/`input_dim` argument to a layer. When using Sequential models, prefer using an `Input(shape)` object as the first layer in the model instead.\n",
      "  super().__init__(activity_regularizer=activity_regularizer, **kwargs)\n"
     ]
    }
   ],
   "source": [
    "\n",
    "# DÃ©finition du modÃ¨le CNN\n",
    "model = Sequential([\n",
    "    Conv2D(64, (3, 3), activation='relu', input_shape=(48, 48, 1)),\n",
    "    MaxPooling2D(2, 2),\n",
    "    Conv2D(128, (3, 3), activation='relu'),\n",
    "    MaxPooling2D(2, 2),\n",
    "    Flatten(),\n",
    "    Dense(256, activation='relu'),\n",
    "    Dropout(0.5),\n",
    "    Dense(7, activation='softmax')  \n",
    "])\n",
    "\n",
    "model.compile(optimizer='adam', loss='categorical_crossentropy', metrics=['accuracy'])\n"
   ]
  },
  {
   "cell_type": "markdown",
   "metadata": {},
   "source": [
    "## 2.1 EntraÃ®nement du modÃ¨le "
   ]
  },
  {
   "cell_type": "code",
   "execution_count": 12,
   "metadata": {},
   "outputs": [
    {
     "name": "stderr",
     "output_type": "stream",
     "text": [
      "c:\\Users\\habakar\\AppData\\Local\\Programs\\Python\\Python312\\Lib\\site-packages\\keras\\src\\trainers\\data_adapters\\py_dataset_adapter.py:121: UserWarning: Your `PyDataset` class should call `super().__init__(**kwargs)` in its constructor. `**kwargs` can include `workers`, `use_multiprocessing`, `max_queue_size`. Do not pass these arguments to `fit()`, as they will be ignored.\n",
      "  self._warn_if_super_not_called()\n"
     ]
    },
    {
     "name": "stdout",
     "output_type": "stream",
     "text": [
      "Epoch 1/20\n",
      "\u001b[1m898/898\u001b[0m \u001b[32mâ”â”â”â”â”â”â”â”â”â”â”â”â”â”â”â”â”â”â”â”\u001b[0m\u001b[37m\u001b[0m \u001b[1m371s\u001b[0m 411ms/step - accuracy: 0.3048 - loss: 1.7298 - val_accuracy: 0.4542 - val_loss: 1.4201\n",
      "Epoch 2/20\n",
      "\u001b[1m898/898\u001b[0m \u001b[32mâ”â”â”â”â”â”â”â”â”â”â”â”â”â”â”â”â”â”â”â”\u001b[0m\u001b[37m\u001b[0m \u001b[1m141s\u001b[0m 157ms/step - accuracy: 0.4430 - loss: 1.4476 - val_accuracy: 0.4883 - val_loss: 1.3398\n",
      "Epoch 3/20\n",
      "\u001b[1m898/898\u001b[0m \u001b[32mâ”â”â”â”â”â”â”â”â”â”â”â”â”â”â”â”â”â”â”â”\u001b[0m\u001b[37m\u001b[0m \u001b[1m118s\u001b[0m 131ms/step - accuracy: 0.4902 - loss: 1.3340 - val_accuracy: 0.4836 - val_loss: 1.3100\n",
      "Epoch 4/20\n",
      "\u001b[1m898/898\u001b[0m \u001b[32mâ”â”â”â”â”â”â”â”â”â”â”â”â”â”â”â”â”â”â”â”\u001b[0m\u001b[37m\u001b[0m \u001b[1m134s\u001b[0m 150ms/step - accuracy: 0.5179 - loss: 1.2664 - val_accuracy: 0.5189 - val_loss: 1.2444\n",
      "Epoch 5/20\n",
      "\u001b[1m898/898\u001b[0m \u001b[32mâ”â”â”â”â”â”â”â”â”â”â”â”â”â”â”â”â”â”â”â”\u001b[0m\u001b[37m\u001b[0m \u001b[1m147s\u001b[0m 163ms/step - accuracy: 0.5511 - loss: 1.1899 - val_accuracy: 0.5227 - val_loss: 1.2273\n",
      "Epoch 6/20\n",
      "\u001b[1m898/898\u001b[0m \u001b[32mâ”â”â”â”â”â”â”â”â”â”â”â”â”â”â”â”â”â”â”â”\u001b[0m\u001b[37m\u001b[0m \u001b[1m141s\u001b[0m 157ms/step - accuracy: 0.5693 - loss: 1.1397 - val_accuracy: 0.5329 - val_loss: 1.2233\n",
      "Epoch 7/20\n",
      "\u001b[1m898/898\u001b[0m \u001b[32mâ”â”â”â”â”â”â”â”â”â”â”â”â”â”â”â”â”â”â”â”\u001b[0m\u001b[37m\u001b[0m \u001b[1m143s\u001b[0m 159ms/step - accuracy: 0.5987 - loss: 1.0660 - val_accuracy: 0.5408 - val_loss: 1.1904\n",
      "Epoch 8/20\n",
      "\u001b[1m898/898\u001b[0m \u001b[32mâ”â”â”â”â”â”â”â”â”â”â”â”â”â”â”â”â”â”â”â”\u001b[0m\u001b[37m\u001b[0m \u001b[1m188s\u001b[0m 210ms/step - accuracy: 0.6169 - loss: 1.0128 - val_accuracy: 0.5403 - val_loss: 1.2048\n",
      "Epoch 9/20\n",
      "\u001b[1m898/898\u001b[0m \u001b[32mâ”â”â”â”â”â”â”â”â”â”â”â”â”â”â”â”â”â”â”â”\u001b[0m\u001b[37m\u001b[0m \u001b[1m200s\u001b[0m 223ms/step - accuracy: 0.6398 - loss: 0.9529 - val_accuracy: 0.5421 - val_loss: 1.2231\n",
      "Epoch 10/20\n",
      "\u001b[1m898/898\u001b[0m \u001b[32mâ”â”â”â”â”â”â”â”â”â”â”â”â”â”â”â”â”â”â”â”\u001b[0m\u001b[37m\u001b[0m \u001b[1m171s\u001b[0m 191ms/step - accuracy: 0.6666 - loss: 0.8788 - val_accuracy: 0.5499 - val_loss: 1.2305\n",
      "Epoch 11/20\n",
      "\u001b[1m898/898\u001b[0m \u001b[32mâ”â”â”â”â”â”â”â”â”â”â”â”â”â”â”â”â”â”â”â”\u001b[0m\u001b[37m\u001b[0m \u001b[1m169s\u001b[0m 188ms/step - accuracy: 0.6875 - loss: 0.8313 - val_accuracy: 0.5507 - val_loss: 1.2725\n",
      "Epoch 12/20\n",
      "\u001b[1m898/898\u001b[0m \u001b[32mâ”â”â”â”â”â”â”â”â”â”â”â”â”â”â”â”â”â”â”â”\u001b[0m\u001b[37m\u001b[0m \u001b[1m200s\u001b[0m 223ms/step - accuracy: 0.7016 - loss: 0.7833 - val_accuracy: 0.5545 - val_loss: 1.2847\n",
      "Epoch 13/20\n",
      "\u001b[1m898/898\u001b[0m \u001b[32mâ”â”â”â”â”â”â”â”â”â”â”â”â”â”â”â”â”â”â”â”\u001b[0m\u001b[37m\u001b[0m \u001b[1m230s\u001b[0m 257ms/step - accuracy: 0.7152 - loss: 0.7340 - val_accuracy: 0.5524 - val_loss: 1.3397\n",
      "Epoch 14/20\n",
      "\u001b[1m898/898\u001b[0m \u001b[32mâ”â”â”â”â”â”â”â”â”â”â”â”â”â”â”â”â”â”â”â”\u001b[0m\u001b[37m\u001b[0m \u001b[1m215s\u001b[0m 239ms/step - accuracy: 0.7316 - loss: 0.6949 - val_accuracy: 0.5371 - val_loss: 1.4364\n",
      "Epoch 15/20\n",
      "\u001b[1m898/898\u001b[0m \u001b[32mâ”â”â”â”â”â”â”â”â”â”â”â”â”â”â”â”â”â”â”â”\u001b[0m\u001b[37m\u001b[0m \u001b[1m189s\u001b[0m 210ms/step - accuracy: 0.7510 - loss: 0.6534 - val_accuracy: 0.5497 - val_loss: 1.4685\n",
      "Epoch 16/20\n",
      "\u001b[1m898/898\u001b[0m \u001b[32mâ”â”â”â”â”â”â”â”â”â”â”â”â”â”â”â”â”â”â”â”\u001b[0m\u001b[37m\u001b[0m \u001b[1m189s\u001b[0m 211ms/step - accuracy: 0.7618 - loss: 0.6137 - val_accuracy: 0.5553 - val_loss: 1.4396\n",
      "Epoch 17/20\n",
      "\u001b[1m898/898\u001b[0m \u001b[32mâ”â”â”â”â”â”â”â”â”â”â”â”â”â”â”â”â”â”â”â”\u001b[0m\u001b[37m\u001b[0m \u001b[1m191s\u001b[0m 213ms/step - accuracy: 0.7689 - loss: 0.5953 - val_accuracy: 0.5499 - val_loss: 1.4850\n",
      "Epoch 18/20\n",
      "\u001b[1m898/898\u001b[0m \u001b[32mâ”â”â”â”â”â”â”â”â”â”â”â”â”â”â”â”â”â”â”â”\u001b[0m\u001b[37m\u001b[0m \u001b[1m205s\u001b[0m 228ms/step - accuracy: 0.7858 - loss: 0.5579 - val_accuracy: 0.5476 - val_loss: 1.5657\n",
      "Epoch 19/20\n",
      "\u001b[1m898/898\u001b[0m \u001b[32mâ”â”â”â”â”â”â”â”â”â”â”â”â”â”â”â”â”â”â”â”\u001b[0m\u001b[37m\u001b[0m \u001b[1m213s\u001b[0m 237ms/step - accuracy: 0.7886 - loss: 0.5326 - val_accuracy: 0.5575 - val_loss: 1.5572\n",
      "Epoch 20/20\n",
      "\u001b[1m898/898\u001b[0m \u001b[32mâ”â”â”â”â”â”â”â”â”â”â”â”â”â”â”â”â”â”â”â”\u001b[0m\u001b[37m\u001b[0m \u001b[1m202s\u001b[0m 225ms/step - accuracy: 0.7980 - loss: 0.5121 - val_accuracy: 0.5524 - val_loss: 1.6825\n"
     ]
    },
    {
     "name": "stderr",
     "output_type": "stream",
     "text": [
      "WARNING:absl:You are saving your model as an HDF5 file via `model.save()` or `keras.saving.save_model(model)`. This file format is considered legacy. We recommend using instead the native Keras format, e.g. `model.save('my_model.keras')` or `keras.saving.save_model(model, 'my_model.keras')`. \n"
     ]
    }
   ],
   "source": [
    "model.fit(train_generator, validation_data=test_generator, epochs=20)\n",
    "model.save(\"emotion_recognition_model.h5\")  # Sauvegarde du modÃ¨le entraÃ®nÃ©"
   ]
  }
 ],
 "metadata": {
  "kernelspec": {
   "display_name": "Python 3",
   "language": "python",
   "name": "python3"
  },
  "language_info": {
   "codemirror_mode": {
    "name": "ipython",
    "version": 3
   },
   "file_extension": ".py",
   "mimetype": "text/x-python",
   "name": "python",
   "nbconvert_exporter": "python",
   "pygments_lexer": "ipython3",
   "version": "3.12.2"
  }
 },
 "nbformat": 4,
 "nbformat_minor": 2
}

